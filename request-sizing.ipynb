{
 "cells": [
  {
   "cell_type": "markdown",
   "id": "1159b013-6551-41ba-8f65-ea74495305ed",
   "metadata": {},
   "source": [
    "# Sizing of K8s deployment based on monitoring"
   ]
  },
  {
   "cell_type": "code",
   "execution_count": null,
   "id": "bafeab04-3da3-4613-9307-01b7e25d136d",
   "metadata": {},
   "outputs": [],
   "source": [
    "%load_ext autoreload\n",
    "%autoreload 2\n",
    "%matplotlib ipympl\n",
    "from prometheus_api_client import PrometheusConnect\n",
    "from prometheus_api_client.utils import parse_datetime\n",
    "from datetime import timedelta\n",
    "import matplotlib.pyplot as plt\n",
    "import numpy as np"
   ]
  },
  {
   "cell_type": "code",
   "execution_count": null,
   "id": "1200a172-cd5c-4033-97e9-d59deb10ddb1",
   "metadata": {},
   "outputs": [],
   "source": [
    "from prom_usage_service import PromUsageService\n",
    "service = PromUsageService()\n",
    "time_series = service.query(start=14, end=0)\n",
    "service.save_cache(\"./data/cpu_usage.json\", overwrite=True)"
   ]
  },
  {
   "cell_type": "code",
   "execution_count": null,
   "id": "51be87db-4a89-48dc-81a2-d515d1ef8445",
   "metadata": {},
   "outputs": [],
   "source": [
    "fig, ax = plt.subplots()\n",
    "ax.plot(time_series.time, time_series.resource, linewidth=2.0)\n",
    "plt.xticks(rotation = 45)\n",
    "plt.show()"
   ]
  },
  {
   "cell_type": "code",
   "execution_count": null,
   "id": "81c3bc4e-ad5f-4acb-b373-6164cf922b19",
   "metadata": {},
   "outputs": [],
   "source": []
  }
 ],
 "metadata": {
  "kernelspec": {
   "display_name": "Python 3 (ipykernel)",
   "language": "python",
   "name": "python3"
  },
  "language_info": {
   "codemirror_mode": {
    "name": "ipython",
    "version": 3
   },
   "file_extension": ".py",
   "mimetype": "text/x-python",
   "name": "python",
   "nbconvert_exporter": "python",
   "pygments_lexer": "ipython3",
   "version": "3.10.7"
  }
 },
 "nbformat": 4,
 "nbformat_minor": 5
}
