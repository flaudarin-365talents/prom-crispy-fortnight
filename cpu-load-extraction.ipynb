{
 "cells": [
  {
   "cell_type": "markdown",
   "id": "1159b013-6551-41ba-8f65-ea74495305ed",
   "metadata": {},
   "source": [
    "# Extraction of CPU load time series\n",
    "⚠️ **The VPN must be active!**"
   ]
  },
  {
   "cell_type": "code",
   "execution_count": null,
   "id": "bafeab04-3da3-4613-9307-01b7e25d136d",
   "metadata": {},
   "outputs": [],
   "source": [
    "%load_ext autoreload\n",
    "%autoreload 2\n",
    "%matplotlib ipympl\n",
    "from prometheus_api_client import PrometheusConnect\n",
    "from prometheus_api_client.utils import parse_datetime\n",
    "from datetime import timedelta\n",
    "import matplotlib.pyplot as plt\n",
    "import numpy as np"
   ]
  },
  {
   "cell_type": "markdown",
   "id": "096ffe32-bfc2-4977-aca7-e6072f093263",
   "metadata": {},
   "source": [
    "## Extraction\n",
    "- Query data from Prometheus\n",
    "- Store a dump of data to the local FS"
   ]
  },
  {
   "cell_type": "code",
   "execution_count": null,
   "id": "1200a172-cd5c-4033-97e9-d59deb10ddb1",
   "metadata": {},
   "outputs": [],
   "source": [
    "from prom_usage_service import PromUsageService\n",
    "prom_service = PromUsageService()\n",
    "time_series = prom_service.query(start=14, end=0)\n",
    "prom_service.save_cache(\"./data/cpu_usage.json\", overwrite=True)"
   ]
  },
  {
   "cell_type": "markdown",
   "id": "d02ed043-3bb3-4db1-b96e-f0b9f8d8fe24",
   "metadata": {},
   "source": [
    "## Deserialization test\n",
    "Test that an instance of `StatsService` can deserialize the dump of a time series."
   ]
  },
  {
   "cell_type": "code",
   "execution_count": null,
   "id": "81c3bc4e-ad5f-4acb-b373-6164cf922b19",
   "metadata": {},
   "outputs": [],
   "source": [
    "from stats.stats_service import StatsService\n",
    "stats_service = StatsService(name=\"CPU usage\")\n",
    "stats_service.load_time_series(path=\"data/cpu_usage.json\")"
   ]
  },
  {
   "cell_type": "code",
   "execution_count": null,
   "id": "d48d16b5-59a8-4eb2-860a-de8ac95f8c27",
   "metadata": {},
   "outputs": [],
   "source": [
    "fig, ax = plt.subplots()\n",
    "ax.plot(stats_service.time_series.time, stats_service.time_series.resource, linewidth=2.0)\n",
    "plt.xticks(rotation = 45)\n",
    "plt.show()"
   ]
  },
  {
   "cell_type": "code",
   "execution_count": null,
   "id": "755de660-ca31-400f-946f-4b29662375a3",
   "metadata": {},
   "outputs": [],
   "source": []
  }
 ],
 "metadata": {
  "kernelspec": {
   "display_name": "Python 3 (ipykernel)",
   "language": "python",
   "name": "python3"
  },
  "language_info": {
   "codemirror_mode": {
    "name": "ipython",
    "version": 3
   },
   "file_extension": ".py",
   "mimetype": "text/x-python",
   "name": "python",
   "nbconvert_exporter": "python",
   "pygments_lexer": "ipython3",
   "version": "3.10.7"
  }
 },
 "nbformat": 4,
 "nbformat_minor": 5
}
