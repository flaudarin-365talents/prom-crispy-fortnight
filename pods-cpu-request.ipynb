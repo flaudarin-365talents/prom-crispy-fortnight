{
 "cells": [
  {
   "cell_type": "markdown",
   "id": "f2740d8c-76a8-42b0-94a4-329ee9fbbda7",
   "metadata": {},
   "source": [
    "# Sizing of pods' CPU request"
   ]
  },
  {
   "cell_type": "code",
   "execution_count": null,
   "id": "e4e87d11-ed78-441f-88bb-27149c6cef08",
   "metadata": {},
   "outputs": [],
   "source": [
    "%load_ext autoreload\n",
    "%autoreload 2\n",
    "%matplotlib ipympl\n",
    "import matplotlib.pyplot as plt\n",
    "import numpy as np\n",
    "from stats.stats_service import StatsService"
   ]
  },
  {
   "cell_type": "markdown",
   "id": "9b084cb2-0ff7-4a31-95f7-c1d398543d4f",
   "metadata": {},
   "source": [
    "## Load a time series from disk"
   ]
  },
  {
   "cell_type": "code",
   "execution_count": null,
   "id": "1020cec0-abaf-456b-b2ce-345bb2587416",
   "metadata": {},
   "outputs": [],
   "source": [
    "stats_service = StatsService(name=\"CPU usage\")\n",
    "stats_service.load_time_series(path=\"data/cpu_usage.json\")"
   ]
  },
  {
   "cell_type": "code",
   "execution_count": null,
   "id": "83258910-026a-4924-ba61-e5879857aeba",
   "metadata": {},
   "outputs": [],
   "source": [
    "from stats import smoothing\n",
    "stats_service.smooth(algo_type=smoothing.Method.MOVING_AVG, window_size=11).floor(threshold=100e-3)"
   ]
  },
  {
   "cell_type": "code",
   "execution_count": null,
   "id": "8a31ac87-e919-40db-b8eb-4b5ff4c691d4",
   "metadata": {},
   "outputs": [],
   "source": [
    "fig, ax = plt.subplots()\n",
    "ax.plot(stats_service.time_series.time, stats_service.time_series.resource, linewidth=2.0)\n",
    "plt.xticks(rotation = 45)\n",
    "plt.show()"
   ]
  },
  {
   "cell_type": "code",
   "execution_count": null,
   "id": "8da4d2f4-ac6d-44a3-b2aa-2fbe3245d230",
   "metadata": {},
   "outputs": [],
   "source": [
    "peaks = stats_service.get_peaks()"
   ]
  },
  {
   "cell_type": "code",
   "execution_count": null,
   "id": "9d63d7c1-dfaf-47af-86c9-994630711307",
   "metadata": {},
   "outputs": [],
   "source": [
    "peaks.datetimes(threshold=3320e-3)"
   ]
  },
  {
   "cell_type": "code",
   "execution_count": null,
   "id": "82a4edc4-9efb-41c9-bda8-f889d264604c",
   "metadata": {},
   "outputs": [],
   "source": []
  }
 ],
 "metadata": {
  "kernelspec": {
   "display_name": "Python 3 (ipykernel)",
   "language": "python",
   "name": "python3"
  },
  "language_info": {
   "codemirror_mode": {
    "name": "ipython",
    "version": 3
   },
   "file_extension": ".py",
   "mimetype": "text/x-python",
   "name": "python",
   "nbconvert_exporter": "python",
   "pygments_lexer": "ipython3",
   "version": "3.10.7"
  }
 },
 "nbformat": 4,
 "nbformat_minor": 5
}
