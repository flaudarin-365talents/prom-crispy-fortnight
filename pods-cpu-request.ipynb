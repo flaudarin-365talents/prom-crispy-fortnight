{
 "cells": [
  {
   "cell_type": "markdown",
   "id": "f2740d8c-76a8-42b0-94a4-329ee9fbbda7",
   "metadata": {},
   "source": [
    "# Sizing of pods' CPU request"
   ]
  },
  {
   "cell_type": "code",
   "execution_count": 1,
   "id": "e4e87d11-ed78-441f-88bb-27149c6cef08",
   "metadata": {},
   "outputs": [],
   "source": [
    "%load_ext autoreload\n",
    "%autoreload 2\n",
    "%matplotlib ipympl\n",
    "import matplotlib.pyplot as plt\n",
    "import numpy as np\n",
    "from stats_service import StatsService"
   ]
  },
  {
   "cell_type": "code",
   "execution_count": 2,
   "id": "1020cec0-abaf-456b-b2ce-345bb2587416",
   "metadata": {},
   "outputs": [],
   "source": [
    "stats_service = StatsService(name=\"CPU usage\")\n",
    "stats_service.load_time_series(path=\"data/cpu_usage.json\")"
   ]
  },
  {
   "cell_type": "code",
   "execution_count": null,
   "id": "83258910-026a-4924-ba61-e5879857aeba",
   "metadata": {},
   "outputs": [],
   "source": []
  }
 ],
 "metadata": {
  "kernelspec": {
   "display_name": "Python 3 (ipykernel)",
   "language": "python",
   "name": "python3"
  },
  "language_info": {
   "codemirror_mode": {
    "name": "ipython",
    "version": 3
   },
   "file_extension": ".py",
   "mimetype": "text/x-python",
   "name": "python",
   "nbconvert_exporter": "python",
   "pygments_lexer": "ipython3",
   "version": "3.10.7"
  }
 },
 "nbformat": 4,
 "nbformat_minor": 5
}
