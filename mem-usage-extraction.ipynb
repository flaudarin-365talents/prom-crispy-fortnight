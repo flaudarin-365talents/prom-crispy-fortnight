{
 "cells": [
  {
   "cell_type": "markdown",
   "id": "e482c9cb-a6b5-4dc2-b76e-e0144233b390",
   "metadata": {},
   "source": [
    "# Extraction of memory usage time series\n",
    "⚠️ **The VPN must be active!**"
   ]
  },
  {
   "cell_type": "code",
   "execution_count": 5,
   "id": "15304f20-ec64-4191-b9e7-e43a3e75b64f",
   "metadata": {},
   "outputs": [
    {
     "name": "stdout",
     "output_type": "stream",
     "text": [
      "The autoreload extension is already loaded. To reload it, use:\n",
      "  %reload_ext autoreload\n"
     ]
    }
   ],
   "source": [
    "%load_ext autoreload\n",
    "%autoreload 2\n",
    "%matplotlib ipympl\n",
    "from prometheus_api_client import PrometheusConnect\n",
    "from prometheus_api_client.utils import parse_datetime\n",
    "from datetime import timedelta\n",
    "import matplotlib.pyplot as plt\n",
    "import numpy as np"
   ]
  },
  {
   "cell_type": "markdown",
   "id": "59e96f43-bb53-4981-aacb-511e3d19a7f7",
   "metadata": {},
   "source": [
    "## Extraction\n",
    "- Query data from Prometheus\n",
    "- Store a dump of data to the local FS\n",
    "### Parameters\n",
    "`k8s_cluster`: Kubernetes cluster's identifier where the Prometheus server runs\n",
    "- `\"prod\"`\n",
    "- `\"preprod\"`\n",
    "\n",
    "`workload`: Name of a Kubernetes _statefulset_ or _deployment_ in the selected Kubernetes cluster"
   ]
  },
  {
   "cell_type": "code",
   "execution_count": 6,
   "id": "a202f572-15ee-47cd-9a04-0951c1474379",
   "metadata": {},
   "outputs": [
    {
     "name": "stdout",
     "output_type": "stream",
     "text": [
      "Split extraction into 20 chunks\n",
      "Remaining chunks to extract: 20\n",
      "Remaining chunks to extract: 19\n",
      "Remaining chunks to extract: 18\n",
      "Remaining chunks to extract: 17\n",
      "Remaining chunks to extract: 16\n",
      "Remaining chunks to extract: 15\n",
      "Remaining chunks to extract: 14\n",
      "Remaining chunks to extract: 13\n",
      "Remaining chunks to extract: 12\n",
      "Remaining chunks to extract: 11\n",
      "Remaining chunks to extract: 10\n",
      "Remaining chunks to extract: 9\n",
      "Remaining chunks to extract: 8\n",
      "Remaining chunks to extract: 7\n",
      "Remaining chunks to extract: 6\n",
      "Remaining chunks to extract: 5\n",
      "Remaining chunks to extract: 4\n",
      "Remaining chunks to extract: 3\n",
      "Remaining chunks to extract: 2\n",
      "Remaining chunks to extract: 1\n",
      "Remaining chunks to extract: 0\n"
     ]
    },
    {
     "ename": "TypeError",
     "evalue": "'str' object is not callable",
     "output_type": "error",
     "traceback": [
      "\u001b[0;31m---------------------------------------------------------------------------\u001b[0m",
      "\u001b[0;31mTypeError\u001b[0m                                 Traceback (most recent call last)",
      "Cell \u001b[0;32mIn [6], line 10\u001b[0m\n\u001b[1;32m      8\u001b[0m \u001b[38;5;28;01mfrom\u001b[39;00m \u001b[38;5;21;01mprometheus\u001b[39;00m \u001b[38;5;28;01mimport\u001b[39;00m Metrics\n\u001b[1;32m      9\u001b[0m prom_service \u001b[38;5;241m=\u001b[39m PromWorkloadUsageService(cluster\u001b[38;5;241m=\u001b[39mk8s_cluster, workload\u001b[38;5;241m=\u001b[39mworkload)\n\u001b[0;32m---> 10\u001b[0m time_series \u001b[38;5;241m=\u001b[39m \u001b[43mprom_service\u001b[49m\u001b[38;5;241;43m.\u001b[39;49m\u001b[43mquery\u001b[49m\u001b[43m(\u001b[49m\u001b[43mstart\u001b[49m\u001b[38;5;241;43m=\u001b[39;49m\u001b[43mrange_from\u001b[49m\u001b[43m,\u001b[49m\u001b[43m \u001b[49m\u001b[43mend\u001b[49m\u001b[38;5;241;43m=\u001b[39;49m\u001b[43mrange_to\u001b[49m\u001b[43m,\u001b[49m\u001b[43m \u001b[49m\u001b[43mmetric\u001b[49m\u001b[38;5;241;43m=\u001b[39;49m\u001b[43mMetrics\u001b[49m\u001b[38;5;241;43m.\u001b[39;49m\u001b[43mMEMORY_MIB\u001b[49m\u001b[43m)\u001b[49m\n\u001b[1;32m     11\u001b[0m prom_service\u001b[38;5;241m.\u001b[39msave_cache(\u001b[38;5;124m\"\u001b[39m\u001b[38;5;124m./data/mem_usage.json\u001b[39m\u001b[38;5;124m\"\u001b[39m, overwrite\u001b[38;5;241m=\u001b[39m\u001b[38;5;28;01mTrue\u001b[39;00m)\n",
      "File \u001b[0;32m~/Development/monitoring/prometheus/prom_workload_usage_service.py:117\u001b[0m, in \u001b[0;36mPromWorkloadUsageService.query\u001b[0;34m(self, start, end, step, metric)\u001b[0m\n\u001b[1;32m    114\u001b[0m \u001b[38;5;28;01mif\u001b[39;00m metric \u001b[38;5;241m==\u001b[39m Metrics\u001b[38;5;241m.\u001b[39mMEMORY_MIB:\n\u001b[1;32m    115\u001b[0m     metric_values \u001b[38;5;241m*\u001b[39m\u001b[38;5;241m=\u001b[39m \u001b[38;5;241m2\u001b[39m \u001b[38;5;241m*\u001b[39m\u001b[38;5;241m*\u001b[39m \u001b[38;5;241m-\u001b[39m\u001b[38;5;241m20\u001b[39m\n\u001b[0;32m--> 117\u001b[0m \u001b[38;5;28mself\u001b[39m\u001b[38;5;241m.\u001b[39m_data_cache \u001b[38;5;241m=\u001b[39m TimeSeries(name\u001b[38;5;241m=\u001b[39m\u001b[43mmetric\u001b[49m\u001b[38;5;241;43m.\u001b[39;49m\u001b[43mvalue\u001b[49m\u001b[43m(\u001b[49m\u001b[43m)\u001b[49m, resource\u001b[38;5;241m=\u001b[39mmetric_values, time\u001b[38;5;241m=\u001b[39mtime_steps)\n\u001b[1;32m    119\u001b[0m \u001b[38;5;28;01mreturn\u001b[39;00m \u001b[38;5;28mself\u001b[39m\u001b[38;5;241m.\u001b[39m_data_cache\n",
      "\u001b[0;31mTypeError\u001b[0m: 'str' object is not callable"
     ]
    }
   ],
   "source": [
    "# Parameters\n",
    "k8s_cluster=\"preprod\"\n",
    "workload=\"nlp-data\"\n",
    "range_from=60 # days\n",
    "range_to=0 # days, 0 = \"now\"\n",
    "\n",
    "from prometheus.prom_workload_usage_service import PromWorkloadUsageService\n",
    "from prometheus import Metrics\n",
    "prom_service = PromWorkloadUsageService(cluster=k8s_cluster, workload=workload)\n",
    "time_series = prom_service.query(start=range_from, end=range_to, metric=Metrics.MEMORY_MIB)\n",
    "prom_service.save_cache(\"./data/mem_usage.json\", overwrite=True)"
   ]
  },
  {
   "cell_type": "code",
   "execution_count": null,
   "id": "85b0b37d-adc8-4738-86be-6e93e45d1b8c",
   "metadata": {},
   "outputs": [],
   "source": [
    "time_series.resource"
   ]
  },
  {
   "cell_type": "markdown",
   "id": "f32ff5ab-dc6d-4ecd-af26-f38054dfac59",
   "metadata": {},
   "source": [
    "## Deserialization / raw data plot"
   ]
  },
  {
   "cell_type": "code",
   "execution_count": null,
   "id": "ca2502d6-f6b0-4b8c-95f0-8bdc4eb1a0a2",
   "metadata": {},
   "outputs": [],
   "source": [
    "from stats.stats_service import StatsService\n",
    "stats_service = StatsService(name=\"Memory usage\")\n",
    "stats_service.load_time_series(path=\"data/mem_usage.json\")"
   ]
  },
  {
   "cell_type": "code",
   "execution_count": null,
   "id": "15b9a8b3-4160-4935-8957-e2bca5a95b9f",
   "metadata": {},
   "outputs": [],
   "source": [
    "fig, ax = plt.subplots()\n",
    "ax.plot(stats_service.time_series.time, stats_service.time_series.resource, linewidth=1.0)\n",
    "plt.xticks(rotation = 45)\n",
    "plt.show()"
   ]
  },
  {
   "cell_type": "code",
   "execution_count": null,
   "id": "7358709b-0234-45ee-86ba-42388b487c62",
   "metadata": {},
   "outputs": [],
   "source": []
  }
 ],
 "metadata": {
  "kernelspec": {
   "display_name": "Python 3 (ipykernel)",
   "language": "python",
   "name": "python3"
  },
  "language_info": {
   "codemirror_mode": {
    "name": "ipython",
    "version": 3
   },
   "file_extension": ".py",
   "mimetype": "text/x-python",
   "name": "python",
   "nbconvert_exporter": "python",
   "pygments_lexer": "ipython3",
   "version": "3.10.7"
  }
 },
 "nbformat": 4,
 "nbformat_minor": 5
}
