{
 "cells": [
  {
   "cell_type": "markdown",
   "id": "e482c9cb-a6b5-4dc2-b76e-e0144233b390",
   "metadata": {},
   "source": [
    "# Extraction of memory usage time series\n",
    "⚠️ **The VPN must be active!**"
   ]
  },
  {
   "cell_type": "code",
   "execution_count": null,
   "id": "15304f20-ec64-4191-b9e7-e43a3e75b64f",
   "metadata": {},
   "outputs": [],
   "source": [
    "%load_ext autoreload\n",
    "%autoreload 2\n",
    "%matplotlib ipympl\n",
    "from prometheus_api_client import PrometheusConnect\n",
    "from prometheus_api_client.utils import parse_datetime\n",
    "from datetime import timedelta\n",
    "import matplotlib.pyplot as plt\n",
    "import numpy as np"
   ]
  },
  {
   "cell_type": "markdown",
   "id": "59e96f43-bb53-4981-aacb-511e3d19a7f7",
   "metadata": {},
   "source": [
    "## Extraction\n",
    "- Query data from Prometheus\n",
    "- Store a dump of data to the local FS\n",
    "### Parameters\n",
    "`k8s_cluster`: Kubernetes cluster's identifier where the Prometheus server runs\n",
    "- `\"prod\"`\n",
    "- `\"preprod\"`\n",
    "\n",
    "`workload`: Name of a Kubernetes _statefulset_ or _deployment_ in the selected Kubernetes cluster"
   ]
  },
  {
   "cell_type": "code",
   "execution_count": null,
   "id": "a202f572-15ee-47cd-9a04-0951c1474379",
   "metadata": {},
   "outputs": [],
   "source": [
    "# Parameters\n",
    "k8s_cluster=\"preprod\"\n",
    "workload=\"nlp-data\"\n",
    "range_from=60 # days\n",
    "range_to=0 # days, 0 = \"now\"\n",
    "\n",
    "from prom_usage_service import PromUsageService\n",
    "prom_service = PromUsageService(cluster=k8s_cluster, workload=workload)\n",
    "time_series = prom_service.query(start=range_from, end=range_to, metric=PromUsageService.Metrics.MEMORY_MIB)\n",
    "prom_service.save_cache(\"./data/mem_usage.json\", overwrite=True)"
   ]
  },
  {
   "cell_type": "code",
   "execution_count": null,
   "id": "85b0b37d-adc8-4738-86be-6e93e45d1b8c",
   "metadata": {},
   "outputs": [],
   "source": [
    "time_series.resource"
   ]
  },
  {
   "cell_type": "markdown",
   "id": "f32ff5ab-dc6d-4ecd-af26-f38054dfac59",
   "metadata": {},
   "source": [
    "## Deserialization / raw data plot"
   ]
  },
  {
   "cell_type": "code",
   "execution_count": null,
   "id": "ca2502d6-f6b0-4b8c-95f0-8bdc4eb1a0a2",
   "metadata": {},
   "outputs": [],
   "source": [
    "from stats.stats_service import StatsService\n",
    "stats_service = StatsService(name=\"Memory usage\")\n",
    "stats_service.load_time_series(path=\"data/mem_usage.json\")"
   ]
  },
  {
   "cell_type": "code",
   "execution_count": null,
   "id": "15b9a8b3-4160-4935-8957-e2bca5a95b9f",
   "metadata": {},
   "outputs": [],
   "source": [
    "fig, ax = plt.subplots()\n",
    "ax.plot(stats_service.time_series.time, stats_service.time_series.resource, linewidth=1.0)\n",
    "plt.xticks(rotation = 45)\n",
    "plt.show()"
   ]
  },
  {
   "cell_type": "code",
   "execution_count": null,
   "id": "7358709b-0234-45ee-86ba-42388b487c62",
   "metadata": {},
   "outputs": [],
   "source": []
  }
 ],
 "metadata": {
  "kernelspec": {
   "display_name": "Python 3 (ipykernel)",
   "language": "python",
   "name": "python3"
  },
  "language_info": {
   "codemirror_mode": {
    "name": "ipython",
    "version": 3
   },
   "file_extension": ".py",
   "mimetype": "text/x-python",
   "name": "python",
   "nbconvert_exporter": "python",
   "pygments_lexer": "ipython3",
   "version": "3.10.7"
  }
 },
 "nbformat": 4,
 "nbformat_minor": 5
}
