{
 "cells": [
  {
   "cell_type": "markdown",
   "id": "ca5f32e2-b2a3-416b-a394-faa567428894",
   "metadata": {},
   "source": [
    "# Scale up threshold for `matching-worker-data`"
   ]
  },
  {
   "cell_type": "code",
   "execution_count": null,
   "id": "418bca7f-9869-4a90-9cc7-07b3014f4696",
   "metadata": {},
   "outputs": [],
   "source": [
    "%load_ext autoreload\n",
    "%autoreload 2\n",
    "import numpy as np\n",
    "from stats.stats_service import StatsService"
   ]
  },
  {
   "cell_type": "markdown",
   "id": "04f4a758-96ff-4921-82f5-7fa12f34d8aa",
   "metadata": {},
   "source": [
    "## Load a time series from disk"
   ]
  },
  {
   "cell_type": "code",
   "execution_count": null,
   "id": "aedb50c9-11df-4b49-b335-8267e9e26499",
   "metadata": {},
   "outputs": [],
   "source": [
    "stats_service = StatsService(name=\"CPU usage\")\n",
    "stats_service.load_time_series(path=\"data/matching-worker-data/cpu_usage-60d.json\")"
   ]
  },
  {
   "cell_type": "code",
   "execution_count": null,
   "id": "5e8cffc9-6386-4845-af5b-d6a6a768b0e4",
   "metadata": {},
   "outputs": [],
   "source": [
    "threshold = 200e-3\n",
    "mean_cpu_usage = stats_service.mean(threshold)\n",
    "print(f\"mean CPU usage is {mean_cpu_usage} mCPU (threshold = {threshold} mCPU)\")"
   ]
  },
  {
   "cell_type": "code",
   "execution_count": null,
   "id": "156dadd9-5109-44fa-9b71-af4e1d2bc030",
   "metadata": {},
   "outputs": [],
   "source": []
  }
 ],
 "metadata": {
  "kernelspec": {
   "display_name": "Python 3 (ipykernel)",
   "language": "python",
   "name": "python3"
  },
  "language_info": {
   "codemirror_mode": {
    "name": "ipython",
    "version": 3
   },
   "file_extension": ".py",
   "mimetype": "text/x-python",
   "name": "python",
   "nbconvert_exporter": "python",
   "pygments_lexer": "ipython3",
   "version": "3.10.7"
  },
  "vscode": {
   "interpreter": {
    "hash": "dd6c943fcf45dab94a13cd01a97514648dd5050d26177bee2c0adda206c14d60"
   }
  }
 },
 "nbformat": 4,
 "nbformat_minor": 5
}
